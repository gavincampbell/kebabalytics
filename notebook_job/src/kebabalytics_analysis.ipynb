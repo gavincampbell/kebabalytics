{
 "cells": [
  {
   "cell_type": "markdown",
   "metadata": {},
   "source": "# Kebabalytics Meaningless KPI Analysis\n\nThis notebook contains the logic for calculating kebab shop meaningless KPIs based on multiple performance metrics."
  },
  {
   "cell_type": "code",
   "execution_count": null,
   "metadata": {},
   "outputs": [],
   "source": [
    "# Import required libraries\n",
    "from pyspark.sql import DataFrame\n",
    "import pyspark.sql.functions as F"
   ]
  },
  {
   "cell_type": "code",
   "execution_count": null,
   "metadata": {},
   "outputs": [],
   "source": "%sql\nSELECT * FROM kebabalytics_dev.bronze.kebab_orders"
  },
  {
   "cell_type": "code",
   "execution_count": null,
   "metadata": {},
   "outputs": [],
   "source": "# Define meaningless KPI calculation function\ndef calculate_meaningless_kpis(df: DataFrame) -> DataFrame:\n    \"\"\"\n    Calculate meaningless KPIs for kebab shops based on:\n    - Order volume vs. target (250 orders/day) - 30% weight\n    - Average order value vs. target (£13.5) - 30% weight  \n    - Prep time vs. target (10 minutes) - 20% weight\n    - Customer rating (1-5 scale) - 20% weight\n    \"\"\"\n    # Define targets\n    target_orders = 250\n    target_value = 13.5\n    target_prep = 10\n\n    # Aggregate daily metrics by shop\n    daily_totals = df.groupBy(\n        \"shop_id\", \"shop_name\", \"shop_city\", F.to_date(\"order_timestamp\").alias(\"order_date\")\n    ).agg(\n        F.count(\"order_id\").alias(\"total_orders\"),\n        F.sum(\"total_amount\").alias(\"total_revenue\"),\n        F.avg(\"total_amount\").alias(\"avg_order_value\"),\n        F.avg(\"prep_time_minutes\").alias(\"avg_prep_time\"),\n        F.avg(\"customer_rating\").alias(\"avg_rating\")\n    )\n    \n    # Calculate meaningless KPI with all components\n    return daily_totals.withColumn(\n        \"meaningless_kpi\",\n        F.round(\n            # Order volume score (30% weight) - peaks at target, gentler penalties for excess\n            (F.when(\n                (F.col(\"total_orders\") / target_orders) <= 1, \n                (F.col(\"total_orders\") / target_orders) * 100\n            ).otherwise(\n                F.greatest(F.lit(0), 100 - ((F.col(\"total_orders\") / target_orders) - 1) * 25)\n            ) * 0.3) +\n            \n            # Average order value score (30% weight) - rewards up to 2x target\n            (F.when(\n                F.col(\"avg_order_value\") <= target_value,\n                (F.col(\"avg_order_value\") / target_value) * 100\n            ).otherwise(\n                F.least(\n                    F.lit(100),\n                    100 + ((F.col(\"avg_order_value\") - target_value) / target_value) * 50\n                )\n            ) * 0.3) +\n            \n            # Prep time score (20% weight) - lower is better\n            (F.when(\n                F.col(\"avg_prep_time\") <= target_prep,\n                F.lit(100)\n            ).otherwise(\n                F.greatest(F.lit(0), 100 - (F.col(\"avg_prep_time\") - target_prep) * 5)\n            ) * 0.2) +\n            \n            # Customer rating score (20% weight)\n            (((F.coalesce(F.col(\"avg_rating\"), F.lit(3.0)) / 5.0) * 100) * 0.2),\n            \n            1\n        )\n    )"
  },
  {
   "cell_type": "code",
   "execution_count": null,
   "metadata": {},
   "outputs": [],
   "source": "# Calculate meaningless KPIs using the _sqldf from the previous cell\nmeaningless_kpis_df = calculate_meaningless_kpis(_sqldf)\nprint(\"Meaningless KPIs calculated successfully!\")"
  },
  {
   "cell_type": "code",
   "execution_count": null,
   "metadata": {},
   "outputs": [],
   "source": "# Display sample results\nmeaningless_kpis_df.show(5)"
  },
  {
   "cell_type": "code",
   "execution_count": null,
   "metadata": {},
   "outputs": [],
   "source": "# Show summary statistics\nmeaningless_kpis_df.select(\n    F.count(\"*\").alias(\"total_shop_days\"),\n    F.avg(\"meaningless_kpi\").alias(\"avg_meaningless_kpi\"),\n    F.min(\"meaningless_kpi\").alias(\"min_meaningless_kpi\"),\n    F.max(\"meaningless_kpi\").alias(\"max_meaningless_kpi\")\n).show()"
  },
  {
   "cell_type": "code",
   "execution_count": null,
   "metadata": {},
   "outputs": [],
   "source": "# Show top performing shops\nprint(\"Top 10 performing shop days:\")\nmeaningless_kpis_df.orderBy(F.desc(\"meaningless_kpi\")).show(10)"
  },
  {
   "cell_type": "code",
   "execution_count": null,
   "metadata": {},
   "outputs": [],
   "source": "# Show shops needing improvement\nprint(\"Bottom 10 performing shop days:\")\nmeaningless_kpis_df.orderBy(\"meaningless_kpi\").show(10)"
  },
  {
   "cell_type": "code",
   "execution_count": null,
   "metadata": {},
   "outputs": [],
   "source": "# Analysis by city\nprint(\"Average meaningless KPIs by city:\")\ncity_scores = meaningless_kpis_df.groupBy(\"shop_city\").agg(\n    F.avg(\"meaningless_kpi\").alias(\"avg_meaningless_kpi\"),\n    F.count(\"*\").alias(\"shop_days\")\n).orderBy(F.desc(\"avg_meaningless_kpi\"))\n\ncity_scores.show()"
  }
 ],
 "metadata": {
  "kernelspec": {
   "display_name": "Python 3",
   "language": "python",
   "name": "python3"
  },
  "language_info": {
   "codemirror_mode": {
    "name": "ipython",
    "version": 3
   },
   "file_extension": ".py",
   "mimetype": "text/x-python",
   "name": "python",
   "nbconvert_exporter": "python",
   "pygments_lexer": "ipython3",
   "version": "3.8.5"
  }
 },
 "nbformat": 4,
 "nbformat_minor": 4
}